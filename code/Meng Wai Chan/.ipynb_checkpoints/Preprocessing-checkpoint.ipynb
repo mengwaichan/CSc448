{
 "cells": [
  {
   "cell_type": "code",
   "execution_count": 1,
   "id": "12adba1b",
   "metadata": {},
   "outputs": [
    {
     "name": "stderr",
     "output_type": "stream",
     "text": [
      "[nltk_data] Downloading package stopwords to\n",
      "[nltk_data]     C:\\Users\\chanm\\AppData\\Roaming\\nltk_data...\n",
      "[nltk_data]   Package stopwords is already up-to-date!\n",
      "[nltk_data] Downloading package wordnet to\n",
      "[nltk_data]     C:\\Users\\chanm\\AppData\\Roaming\\nltk_data...\n",
      "[nltk_data]   Package wordnet is already up-to-date!\n",
      "[nltk_data] Downloading package omw-1.4 to\n",
      "[nltk_data]     C:\\Users\\chanm\\AppData\\Roaming\\nltk_data...\n",
      "[nltk_data]   Package omw-1.4 is already up-to-date!\n"
     ]
    },
    {
     "data": {
      "text/plain": [
       "True"
      ]
     },
     "execution_count": 1,
     "metadata": {},
     "output_type": "execute_result"
    }
   ],
   "source": [
    "import pandas as pd\n",
    "import matplotlib.pyplot as plt\n",
    "import seaborn as sns\n",
    "import nltk\n",
    "import re\n",
    "from nltk.stem import SnowballStemmer, WordNetLemmatizer\n",
    "from nltk.corpus import stopwords\n",
    "\n",
    "nltk.download('stopwords')\n",
    "nltk.download('wordnet')\n",
    "nltk.download('omw-1.4')"
   ]
  },
  {
   "cell_type": "code",
   "execution_count": 2,
   "id": "e7bb8cc1",
   "metadata": {},
   "outputs": [],
   "source": [
    "with open(\"../../dataset/merge.txt\", \"r\") as file:\n",
    "    data = file.readlines()\n",
    "\n",
    "# Create a list to store the data\n",
    "rows = []\n",
    "\n",
    "# Process each line in the dataset\n",
    "for line in data:\n",
    "    # Split the line into sentiment and content\n",
    "    content, sentiment = line.strip().split(\";\")\n",
    "    \n",
    "    # Append the data to the list\n",
    "    rows.append({\"sentiment\": sentiment, \"content\": content})\n",
    "\n",
    "# Create a DataFrame from the list\n",
    "data = pd.DataFrame(rows)\n",
    "\n",
    "data.to_csv(\"../../dataset/training.csv\", index=False)"
   ]
  },
  {
   "cell_type": "code",
   "execution_count": 3,
   "id": "8248d352",
   "metadata": {},
   "outputs": [
    {
     "data": {
      "text/plain": [
       "(16000, 2)"
      ]
     },
     "execution_count": 3,
     "metadata": {},
     "output_type": "execute_result"
    }
   ],
   "source": [
    "data.shape"
   ]
  },
  {
   "cell_type": "code",
   "execution_count": 4,
   "id": "ccaaa3d4",
   "metadata": {},
   "outputs": [
    {
     "name": "stdout",
     "output_type": "stream",
     "text": [
      "Missing Values:\n",
      " sentiment    0\n",
      "content      0\n",
      "dtype: int64\n"
     ]
    }
   ],
   "source": [
    "print(\"Missing Values:\\n\", data.isnull().sum())"
   ]
  },
  {
   "cell_type": "code",
   "execution_count": 5,
   "id": "be3b1f47",
   "metadata": {},
   "outputs": [
    {
     "data": {
      "text/plain": [
       "1"
      ]
     },
     "execution_count": 5,
     "metadata": {},
     "output_type": "execute_result"
    }
   ],
   "source": [
    "#print the number of duplicated values \n",
    "data.duplicated().sum()"
   ]
  },
  {
   "cell_type": "code",
   "execution_count": 6,
   "id": "45de6740",
   "metadata": {},
   "outputs": [],
   "source": [
    "index = data[data.duplicated() == True].index\n",
    "data.drop(index, axis = 0, inplace = True)\n",
    "data.reset_index(inplace=True, drop = True)"
   ]
  },
  {
   "cell_type": "code",
   "execution_count": 7,
   "id": "a320f694",
   "metadata": {},
   "outputs": [
    {
     "data": {
      "text/html": [
       "<div>\n",
       "<style scoped>\n",
       "    .dataframe tbody tr th:only-of-type {\n",
       "        vertical-align: middle;\n",
       "    }\n",
       "\n",
       "    .dataframe tbody tr th {\n",
       "        vertical-align: top;\n",
       "    }\n",
       "\n",
       "    .dataframe thead th {\n",
       "        text-align: right;\n",
       "    }\n",
       "</style>\n",
       "<table border=\"1\" class=\"dataframe\">\n",
       "  <thead>\n",
       "    <tr style=\"text-align: right;\">\n",
       "      <th></th>\n",
       "      <th>sentiment</th>\n",
       "      <th>content</th>\n",
       "    </tr>\n",
       "  </thead>\n",
       "  <tbody>\n",
       "    <tr>\n",
       "      <th>5067</th>\n",
       "      <td>joy</td>\n",
       "      <td>i feel on the verge of tears from weariness i ...</td>\n",
       "    </tr>\n",
       "    <tr>\n",
       "      <th>6133</th>\n",
       "      <td>love</td>\n",
       "      <td>i still feel a craving for sweet food</td>\n",
       "    </tr>\n",
       "    <tr>\n",
       "      <th>6563</th>\n",
       "      <td>anger</td>\n",
       "      <td>i tend to stop breathing when i m feeling stre...</td>\n",
       "    </tr>\n",
       "    <tr>\n",
       "      <th>7623</th>\n",
       "      <td>sadness</td>\n",
       "      <td>i was intensely conscious of how much cash i h...</td>\n",
       "    </tr>\n",
       "    <tr>\n",
       "      <th>7685</th>\n",
       "      <td>surprise</td>\n",
       "      <td>im still not sure why reilly feels the need to...</td>\n",
       "    </tr>\n",
       "    <tr>\n",
       "      <th>8246</th>\n",
       "      <td>love</td>\n",
       "      <td>i am not amazing or great at photography but i...</td>\n",
       "    </tr>\n",
       "    <tr>\n",
       "      <th>9596</th>\n",
       "      <td>joy</td>\n",
       "      <td>ive also made it with both sugar measurements ...</td>\n",
       "    </tr>\n",
       "    <tr>\n",
       "      <th>9687</th>\n",
       "      <td>joy</td>\n",
       "      <td>i had to choose the sleek and smoother feel of...</td>\n",
       "    </tr>\n",
       "    <tr>\n",
       "      <th>9769</th>\n",
       "      <td>sadness</td>\n",
       "      <td>i often find myself feeling assaulted by a mul...</td>\n",
       "    </tr>\n",
       "    <tr>\n",
       "      <th>9786</th>\n",
       "      <td>joy</td>\n",
       "      <td>i feel im being generous with that statement</td>\n",
       "    </tr>\n",
       "    <tr>\n",
       "      <th>10117</th>\n",
       "      <td>fear</td>\n",
       "      <td>i feel pretty tortured because i work a job an...</td>\n",
       "    </tr>\n",
       "    <tr>\n",
       "      <th>10581</th>\n",
       "      <td>joy</td>\n",
       "      <td>i feel most passionate about</td>\n",
       "    </tr>\n",
       "    <tr>\n",
       "      <th>11273</th>\n",
       "      <td>joy</td>\n",
       "      <td>i was so stubborn and that it took you getting...</td>\n",
       "    </tr>\n",
       "    <tr>\n",
       "      <th>11354</th>\n",
       "      <td>love</td>\n",
       "      <td>i write these words i feel sweet baby kicks fr...</td>\n",
       "    </tr>\n",
       "    <tr>\n",
       "      <th>11525</th>\n",
       "      <td>fear</td>\n",
       "      <td>i feel a remembrance of the strange by justin ...</td>\n",
       "    </tr>\n",
       "    <tr>\n",
       "      <th>11823</th>\n",
       "      <td>joy</td>\n",
       "      <td>i have chose for myself that makes me feel ama...</td>\n",
       "    </tr>\n",
       "    <tr>\n",
       "      <th>12441</th>\n",
       "      <td>love</td>\n",
       "      <td>i still feel completely accepted</td>\n",
       "    </tr>\n",
       "    <tr>\n",
       "      <th>12562</th>\n",
       "      <td>surprise</td>\n",
       "      <td>i feel so weird about it</td>\n",
       "    </tr>\n",
       "    <tr>\n",
       "      <th>12892</th>\n",
       "      <td>joy</td>\n",
       "      <td>i cant escape the tears of sadness and just tr...</td>\n",
       "    </tr>\n",
       "    <tr>\n",
       "      <th>13236</th>\n",
       "      <td>anger</td>\n",
       "      <td>i feel like a tortured artist when i talk to her</td>\n",
       "    </tr>\n",
       "    <tr>\n",
       "      <th>13879</th>\n",
       "      <td>love</td>\n",
       "      <td>i feel like i am very passionate about youtube...</td>\n",
       "    </tr>\n",
       "    <tr>\n",
       "      <th>14106</th>\n",
       "      <td>surprise</td>\n",
       "      <td>i feel kind of strange</td>\n",
       "    </tr>\n",
       "    <tr>\n",
       "      <th>14313</th>\n",
       "      <td>surprise</td>\n",
       "      <td>i could feel myself hit this strange foggy wall</td>\n",
       "    </tr>\n",
       "    <tr>\n",
       "      <th>14633</th>\n",
       "      <td>fear</td>\n",
       "      <td>i feel pretty weird blogging about deodorant b...</td>\n",
       "    </tr>\n",
       "    <tr>\n",
       "      <th>14925</th>\n",
       "      <td>fear</td>\n",
       "      <td>i resorted to yesterday the post peak day of i...</td>\n",
       "    </tr>\n",
       "    <tr>\n",
       "      <th>15314</th>\n",
       "      <td>joy</td>\n",
       "      <td>i will feel as though i am accepted by as well...</td>\n",
       "    </tr>\n",
       "    <tr>\n",
       "      <th>15328</th>\n",
       "      <td>joy</td>\n",
       "      <td>i shy away from songs that talk about how i fe...</td>\n",
       "    </tr>\n",
       "    <tr>\n",
       "      <th>15571</th>\n",
       "      <td>anger</td>\n",
       "      <td>i bet taylor swift basks in the knowledge that...</td>\n",
       "    </tr>\n",
       "    <tr>\n",
       "      <th>15704</th>\n",
       "      <td>joy</td>\n",
       "      <td>i began to feel accepted by gaia on her own terms</td>\n",
       "    </tr>\n",
       "    <tr>\n",
       "      <th>15875</th>\n",
       "      <td>anger</td>\n",
       "      <td>i was sitting in the corner stewing in my own ...</td>\n",
       "    </tr>\n",
       "  </tbody>\n",
       "</table>\n",
       "</div>"
      ],
      "text/plain": [
       "      sentiment                                            content\n",
       "5067        joy  i feel on the verge of tears from weariness i ...\n",
       "6133       love              i still feel a craving for sweet food\n",
       "6563      anger  i tend to stop breathing when i m feeling stre...\n",
       "7623    sadness  i was intensely conscious of how much cash i h...\n",
       "7685   surprise  im still not sure why reilly feels the need to...\n",
       "8246       love  i am not amazing or great at photography but i...\n",
       "9596        joy  ive also made it with both sugar measurements ...\n",
       "9687        joy  i had to choose the sleek and smoother feel of...\n",
       "9769    sadness  i often find myself feeling assaulted by a mul...\n",
       "9786        joy       i feel im being generous with that statement\n",
       "10117      fear  i feel pretty tortured because i work a job an...\n",
       "10581       joy                       i feel most passionate about\n",
       "11273       joy  i was so stubborn and that it took you getting...\n",
       "11354      love  i write these words i feel sweet baby kicks fr...\n",
       "11525      fear  i feel a remembrance of the strange by justin ...\n",
       "11823       joy  i have chose for myself that makes me feel ama...\n",
       "12441      love                   i still feel completely accepted\n",
       "12562  surprise                           i feel so weird about it\n",
       "12892       joy  i cant escape the tears of sadness and just tr...\n",
       "13236     anger   i feel like a tortured artist when i talk to her\n",
       "13879      love  i feel like i am very passionate about youtube...\n",
       "14106  surprise                             i feel kind of strange\n",
       "14313  surprise    i could feel myself hit this strange foggy wall\n",
       "14633      fear  i feel pretty weird blogging about deodorant b...\n",
       "14925      fear  i resorted to yesterday the post peak day of i...\n",
       "15314       joy  i will feel as though i am accepted by as well...\n",
       "15328       joy  i shy away from songs that talk about how i fe...\n",
       "15571     anger  i bet taylor swift basks in the knowledge that...\n",
       "15704       joy  i began to feel accepted by gaia on her own terms\n",
       "15875     anger  i was sitting in the corner stewing in my own ..."
      ]
     },
     "execution_count": 7,
     "metadata": {},
     "output_type": "execute_result"
    }
   ],
   "source": [
    "data[data['content'].duplicated() == True]"
   ]
  },
  {
   "cell_type": "code",
   "execution_count": 8,
   "id": "18101e0e",
   "metadata": {},
   "outputs": [],
   "source": [
    "index = data[data['content'].duplicated() == True].index\n",
    "data.drop(index, axis = 0, inplace = True)\n",
    "data.reset_index(inplace=True, drop = True)"
   ]
  },
  {
   "cell_type": "code",
   "execution_count": 9,
   "id": "e6db125b",
   "metadata": {},
   "outputs": [
    {
     "data": {
      "text/plain": [
       "0"
      ]
     },
     "execution_count": 9,
     "metadata": {},
     "output_type": "execute_result"
    }
   ],
   "source": [
    "data.duplicated().sum()"
   ]
  },
  {
   "cell_type": "code",
   "execution_count": 10,
   "id": "16a0235d",
   "metadata": {},
   "outputs": [
    {
     "data": {
      "image/png": "[encoded data removed]",
      "text/plain": [
       "<Figure size 800x600 with 1 Axes>"
      ]
     },
     "metadata": {},
     "output_type": "display_data"
    }
   ],
   "source": [
    "plt.figure(figsize=(8, 6))\n",
    "sns.countplot(x='sentiment', data=data)\n",
    "plt.title('Distribution of Sentiment Classes')\n",
    "plt.xticks(rotation=90)  # Rotate x-axis labels vertically\n",
    "plt.show()\n"
   ]
  },
  {
   "cell_type": "code",
   "execution_count": 11,
   "id": "1e0fb51b",
   "metadata": {},
   "outputs": [],
   "source": [
    "stop_words = set(stopwords.words(\"english\"))\n",
    "lemmatizer= WordNetLemmatizer()"
   ]
  },
  {
   "cell_type": "code",
   "execution_count": 12,
   "id": "2f3520e1",
   "metadata": {},
   "outputs": [],
   "source": [
    "def lemmatization(text):\n",
    "    lemmatizer= WordNetLemmatizer()\n",
    "    text = text.split()\n",
    "    text=[lemmatizer.lemmatize(y) for y in text]\n",
    "    return \" \" .join(text)\n",
    "\n",
    "def remove_stop_words(text):\n",
    "    text=[i for i in str(text).split() if i not in stop_words]\n",
    "    return \" \".join(text)\n",
    "\n",
    "def Removing_numbers(text):\n",
    "    text=''.join([i for i in text if not i.isdigit()])\n",
    "    return text\n",
    "\n",
    "def lower_case(text):\n",
    "    text = text.split()\n",
    "    text=[y.lower() for y in text]\n",
    "    return \" \" .join(text)\n",
    "\n",
    "def Removing_punctuations(text):\n",
    "    text = re.sub('[%s]' % re.escape(\"\"\"!\"#$%&'()*+,،-./:;<=>؟?@[\\]^_`{|}~\"\"\"), ' ', text)\n",
    "    text = text.replace('؛',\"\", )\n",
    "    text = re.sub('\\s+', ' ', text)\n",
    "    text =  \" \".join(text.split())\n",
    "    return text.strip()\n",
    "\n",
    "def Removing_urls(text):\n",
    "    url_pattern = re.compile(r'https?://\\S+|www\\.\\S+')\n",
    "    return url_pattern.sub(r'', text)\n",
    "\n",
    "def remove_small_sentences(df):\n",
    "    for i in range(len(df)):\n",
    "        if len(df.text.iloc[i].split()) < 3:\n",
    "            df.text.iloc[i] = np.nan\n",
    "            \n",
    "def normalize_text(df):\n",
    "    df['content']=df['content'].apply(lower_case)\n",
    "    df['content']=df['content'].apply(remove_stop_words)\n",
    "    df['content']=df['content'].apply(Removing_numbers)\n",
    "    df['content']=df['content'].apply(Removing_punctuations)\n",
    "    df['content']=df['content'].apply(Removing_urls)\n",
    "    df['content']=df['content'].apply(lemmatization)\n",
    "    return df\n"
   ]
  },
  {
   "cell_type": "code",
   "execution_count": 13,
   "id": "645dc24e",
   "metadata": {
    "scrolled": true
   },
   "outputs": [],
   "source": [
    "data = normalize_text(data)"
   ]
  },
  {
   "cell_type": "code",
   "execution_count": 14,
   "id": "60b87c13",
   "metadata": {},
   "outputs": [
    {
     "data": {
      "text/html": [
       "<div>\n",
       "<style scoped>\n",
       "    .dataframe tbody tr th:only-of-type {\n",
       "        vertical-align: middle;\n",
       "    }\n",
       "\n",
       "    .dataframe tbody tr th {\n",
       "        vertical-align: top;\n",
       "    }\n",
       "\n",
       "    .dataframe thead th {\n",
       "        text-align: right;\n",
       "    }\n",
       "</style>\n",
       "<table border=\"1\" class=\"dataframe\">\n",
       "  <thead>\n",
       "    <tr style=\"text-align: right;\">\n",
       "      <th></th>\n",
       "      <th>sentiment</th>\n",
       "      <th>content</th>\n",
       "    </tr>\n",
       "  </thead>\n",
       "  <tbody>\n",
       "    <tr>\n",
       "      <th>0</th>\n",
       "      <td>sadness</td>\n",
       "      <td>didnt feel humiliated</td>\n",
       "    </tr>\n",
       "    <tr>\n",
       "      <th>1</th>\n",
       "      <td>sadness</td>\n",
       "      <td>go feeling hopeless damned hopeful around some...</td>\n",
       "    </tr>\n",
       "    <tr>\n",
       "      <th>2</th>\n",
       "      <td>anger</td>\n",
       "      <td>im grabbing minute post feel greedy wrong</td>\n",
       "    </tr>\n",
       "    <tr>\n",
       "      <th>3</th>\n",
       "      <td>love</td>\n",
       "      <td>ever feeling nostalgic fireplace know still pr...</td>\n",
       "    </tr>\n",
       "    <tr>\n",
       "      <th>4</th>\n",
       "      <td>anger</td>\n",
       "      <td>feeling grouchy</td>\n",
       "    </tr>\n",
       "  </tbody>\n",
       "</table>\n",
       "</div>"
      ],
      "text/plain": [
       "  sentiment                                            content\n",
       "0   sadness                              didnt feel humiliated\n",
       "1   sadness  go feeling hopeless damned hopeful around some...\n",
       "2     anger          im grabbing minute post feel greedy wrong\n",
       "3      love  ever feeling nostalgic fireplace know still pr...\n",
       "4     anger                                    feeling grouchy"
      ]
     },
     "execution_count": 14,
     "metadata": {},
     "output_type": "execute_result"
    }
   ],
   "source": [
    "data.head()"
   ]
  },
  {
   "cell_type": "code",
   "execution_count": 15,
   "id": "13535c59",
   "metadata": {},
   "outputs": [],
   "source": [
    "output_file_path = \"./cleaned_train_data.csv\"\n",
    "data.to_csv(output_file_path, index=False)"
   ]
  },
  {
   "cell_type": "code",
   "execution_count": null,
   "id": "8823e93e",
   "metadata": {},
   "outputs": [],
   "source": []
  }
 ],
 "metadata": {
  "kernelspec": {
   "display_name": "Python 3 (ipykernel)",
   "language": "python",
   "name": "python3"
  },
  "language_info": {
   "codemirror_mode": {
    "name": "ipython",
    "version": 3
   },
   "file_extension": ".py",
   "mimetype": "text/x-python",
   "name": "python",
   "nbconvert_exporter": "python",
   "pygments_lexer": "ipython3",
   "version": "3.9.13"
  }
 },
 "nbformat": 4,
 "nbformat_minor": 5
}
