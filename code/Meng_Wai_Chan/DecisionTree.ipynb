{
 "cells": [
  {
   "cell_type": "code",
   "execution_count": 1,
   "id": "16df531d",
   "metadata": {},
   "outputs": [],
   "source": [
    "import numpy as np\n",
    "import pandas as pd\n",
    "from sklearn.ensemble import RandomForestClassifier\n",
    "from sklearn.preprocessing import LabelEncoder\n",
    "from sklearn.model_selection import train_test_split \n",
    "from sklearn.feature_extraction.text import TfidfVectorizer\n",
    "from sklearn.tree import DecisionTreeClassifier\n",
    "from sklearn.metrics import accuracy_score, precision_score, recall_score, f1_score, roc_auc_score\n",
    "from sklearn.metrics import classification_report, confusion_matrix\n",
    "import matplotlib.pyplot as plt\n",
    "import seaborn as sns"
   ]
  },
  {
   "cell_type": "code",
   "execution_count": 2,
   "id": "feaf946a",
   "metadata": {},
   "outputs": [
    {
     "data": {
      "text/html": [
       "<div>\n",
       "<style scoped>\n",
       "    .dataframe tbody tr th:only-of-type {\n",
       "        vertical-align: middle;\n",
       "    }\n",
       "\n",
       "    .dataframe tbody tr th {\n",
       "        vertical-align: top;\n",
       "    }\n",
       "\n",
       "    .dataframe thead th {\n",
       "        text-align: right;\n",
       "    }\n",
       "</style>\n",
       "<table border=\"1\" class=\"dataframe\">\n",
       "  <thead>\n",
       "    <tr style=\"text-align: right;\">\n",
       "      <th></th>\n",
       "      <th>sentiment</th>\n",
       "      <th>content</th>\n",
       "    </tr>\n",
       "  </thead>\n",
       "  <tbody>\n",
       "    <tr>\n",
       "      <th>0</th>\n",
       "      <td>sadness</td>\n",
       "      <td>im feeling rather rotten im ambitious right</td>\n",
       "    </tr>\n",
       "    <tr>\n",
       "      <th>1</th>\n",
       "      <td>sadness</td>\n",
       "      <td>im updating blog feel shitty</td>\n",
       "    </tr>\n",
       "    <tr>\n",
       "      <th>2</th>\n",
       "      <td>sadness</td>\n",
       "      <td>never make separate ever want feel like ashamed</td>\n",
       "    </tr>\n",
       "    <tr>\n",
       "      <th>3</th>\n",
       "      <td>joy</td>\n",
       "      <td>left bouquet red yellow tulip arm feeling slig...</td>\n",
       "    </tr>\n",
       "    <tr>\n",
       "      <th>4</th>\n",
       "      <td>sadness</td>\n",
       "      <td>feeling little vain one</td>\n",
       "    </tr>\n",
       "  </tbody>\n",
       "</table>\n",
       "</div>"
      ],
      "text/plain": [
       "  sentiment                                            content\n",
       "0   sadness        im feeling rather rotten im ambitious right\n",
       "1   sadness                       im updating blog feel shitty\n",
       "2   sadness    never make separate ever want feel like ashamed\n",
       "3       joy  left bouquet red yellow tulip arm feeling slig...\n",
       "4   sadness                            feeling little vain one"
      ]
     },
     "execution_count": 2,
     "metadata": {},
     "output_type": "execute_result"
    }
   ],
   "source": [
    "file_path = \"../../dataset/train_val_test_preprocessed.csv\"\n",
    "data = pd.read_csv(file_path)\n",
    "\n",
    "data.head()"
   ]
  },
  {
   "cell_type": "code",
   "execution_count": 3,
   "id": "8474ed5e",
   "metadata": {},
   "outputs": [
    {
     "data": {
      "text/plain": [
       "joy         6743\n",
       "sadness     5794\n",
       "anger       2704\n",
       "fear        2366\n",
       "love        1628\n",
       "surprise     713\n",
       "Name: sentiment, dtype: int64"
      ]
     },
     "execution_count": 3,
     "metadata": {},
     "output_type": "execute_result"
    }
   ],
   "source": [
    "data.sentiment.value_counts()"
   ]
  },
  {
   "cell_type": "code",
   "execution_count": 4,
   "id": "de014c76",
   "metadata": {},
   "outputs": [],
   "source": [
    "data = data.dropna(subset=['content'])"
   ]
  },
  {
   "cell_type": "code",
   "execution_count": 5,
   "id": "d3fd6dc5",
   "metadata": {},
   "outputs": [],
   "source": [
    "X = data['content'].astype(str)\n",
    "y = data['sentiment']\n",
    "\n",
    "# Split the data into training and testing sets\n",
    "X_train, X_test, y_train, y_test = train_test_split(X, y, test_size=0.1, random_state=42)\n",
    "\n",
    "# Label encode the target variable\n",
    "le = LabelEncoder()\n",
    "y_train = le.fit_transform(y_train)\n",
    "y_test = le.transform(y_test)\n",
    "\n",
    "# TF-IDF vectorization\n",
    "vec = TfidfVectorizer()\n",
    "X_train_tfidf = vec.fit_transform(X_train)\n",
    "X_test_tfidf = vec.transform(X_test)"
   ]
  },
  {
   "cell_type": "code",
   "execution_count": 6,
   "id": "a8080382",
   "metadata": {},
   "outputs": [],
   "source": [
    "# Create a DecisionTreeClassifier\n",
    "dtc = DecisionTreeClassifier(random_state=42)"
   ]
  },
  {
   "cell_type": "code",
   "execution_count": 7,
   "id": "e2230113",
   "metadata": {},
   "outputs": [],
   "source": [
    "# Train the classifier\n",
    "dtc.fit(X_train_tfidf, y_train)\n",
    "\n",
    "# Predict on the test set\n",
    "dt_pred = dtc.predict(X_test_tfidf)"
   ]
  },
  {
   "cell_type": "code",
   "execution_count": 8,
   "id": "d0551920",
   "metadata": {},
   "outputs": [
    {
     "name": "stdout",
     "output_type": "stream",
     "text": [
      "              precision    recall  f1-score   support\n",
      "\n",
      "           0       0.84      0.88      0.86       266\n",
      "           1       0.85      0.86      0.86       254\n",
      "           2       0.92      0.90      0.91       683\n",
      "           3       0.80      0.78      0.79       156\n",
      "           4       0.90      0.91      0.90       572\n",
      "           5       0.78      0.80      0.79        64\n",
      "\n",
      "    accuracy                           0.88      1995\n",
      "   macro avg       0.85      0.85      0.85      1995\n",
      "weighted avg       0.88      0.88      0.88      1995\n",
      "\n"
     ]
    }
   ],
   "source": [
    "print(classification_report(y_test, dt_pred, zero_division='warn'))\n",
    "confusion_m = confusion_matrix(y_test, dt_pred)"
   ]
  },
  {
   "cell_type": "code",
   "execution_count": 9,
   "id": "e10f6ffb",
   "metadata": {},
   "outputs": [
    {
     "data": {
      "image/png": "[encoded data removed]",
      "text/plain": [
       "<Figure size 800x600 with 1 Axes>"
      ]
     },
     "metadata": {},
     "output_type": "display_data"
    }
   ],
   "source": [
    "# Create a heatmap for the confusion matrix\n",
    "plt.figure(figsize=(8, 6))\n",
    "sns.heatmap(confusion_m, annot=True, fmt='d', cmap='Blues', cbar=False)\n",
    "\n",
    "# Set labels and title for better visualization\n",
    "plt.xlabel('Predicted Labels')\n",
    "plt.ylabel('True Labels')\n",
    "plt.title('Confusion Matrix Decision Tree')\n",
    "\n",
    "# Display the plot\n",
    "plt.show()"
   ]
  },
  {
   "cell_type": "code",
   "execution_count": 10,
   "id": "b773559e",
   "metadata": {},
   "outputs": [
    {
     "name": "stdout",
     "output_type": "stream",
     "text": [
      "Name:  Decision Tree\n",
      "Accuracy:  0.8807017543859649\n",
      "Precision:  0.881089951820483\n",
      "Recall:  0.8807017543859649\n",
      "F1:  0.8807766265759057\n"
     ]
    }
   ],
   "source": [
    "accuracy = accuracy_score(y_test, dt_pred) # accuracy\n",
    "precision = precision_score(y_test, dt_pred, average='weighted') # precision \n",
    "recall = recall_score(y_test, dt_pred, average='weighted') # recall\n",
    "f1 = f1_score(y_test, dt_pred, average='weighted') # f1\n",
    "\n",
    "print(\"Name: \", \"Decision Tree\")\n",
    "print(\"Accuracy: \", accuracy)\n",
    "print(\"Precision: \", precision)\n",
    "print(\"Recall: \", recall)\n",
    "print(\"F1: \", f1)"
   ]
  },
  {
   "cell_type": "code",
   "execution_count": null,
   "id": "9b334ce3",
   "metadata": {},
   "outputs": [],
   "source": []
  }
 ],
 "metadata": {
  "kernelspec": {
   "display_name": "Python 3 (ipykernel)",
   "language": "python",
   "name": "python3"
  },
  "language_info": {
   "codemirror_mode": {
    "name": "ipython",
    "version": 3
   },
   "file_extension": ".py",
   "mimetype": "text/x-python",
   "name": "python",
   "nbconvert_exporter": "python",
   "pygments_lexer": "ipython3",
   "version": "3.9.13"
  }
 },
 "nbformat": 4,
 "nbformat_minor": 5
}
