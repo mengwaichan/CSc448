{
 "cells": [
  {
   "cell_type": "code",
   "execution_count": 20,
   "id": "5a30b298",
   "metadata": {},
   "outputs": [],
   "source": [
    "import numpy as np\n",
    "import pandas as pd\n",
    "from sklearn.model_selection import train_test_split\n",
    "from sklearn.feature_extraction.text import TfidfVectorizer\n",
    "from sklearn.preprocessing import LabelEncoder\n",
    "from sklearn.svm import SVC\n",
    "from sklearn.metrics import accuracy_score, precision_score, recall_score, f1_score, roc_auc_score\n",
    "from sklearn.metrics import classification_report, confusion_matrix\n",
    "import matplotlib.pyplot as plt\n",
    "import seaborn as sns\n",
    "from sklearn import metrics\n",
    "\n"
   ]
  },
  {
   "cell_type": "code",
   "execution_count": 21,
   "id": "f82557b9",
   "metadata": {},
   "outputs": [
    {
     "data": {
      "text/html": [
       "<div>\n",
       "<style scoped>\n",
       "    .dataframe tbody tr th:only-of-type {\n",
       "        vertical-align: middle;\n",
       "    }\n",
       "\n",
       "    .dataframe tbody tr th {\n",
       "        vertical-align: top;\n",
       "    }\n",
       "\n",
       "    .dataframe thead th {\n",
       "        text-align: right;\n",
       "    }\n",
       "</style>\n",
       "<table border=\"1\" class=\"dataframe\">\n",
       "  <thead>\n",
       "    <tr style=\"text-align: right;\">\n",
       "      <th></th>\n",
       "      <th>sentiment</th>\n",
       "      <th>content</th>\n",
       "    </tr>\n",
       "  </thead>\n",
       "  <tbody>\n",
       "    <tr>\n",
       "      <th>0</th>\n",
       "      <td>sadness</td>\n",
       "      <td>im feeling rather rotten im ambitious right</td>\n",
       "    </tr>\n",
       "    <tr>\n",
       "      <th>1</th>\n",
       "      <td>sadness</td>\n",
       "      <td>im updating blog feel shitty</td>\n",
       "    </tr>\n",
       "    <tr>\n",
       "      <th>2</th>\n",
       "      <td>sadness</td>\n",
       "      <td>never make separate ever want feel like ashamed</td>\n",
       "    </tr>\n",
       "    <tr>\n",
       "      <th>3</th>\n",
       "      <td>joy</td>\n",
       "      <td>left bouquet red yellow tulip arm feeling slig...</td>\n",
       "    </tr>\n",
       "    <tr>\n",
       "      <th>4</th>\n",
       "      <td>sadness</td>\n",
       "      <td>feeling little vain one</td>\n",
       "    </tr>\n",
       "  </tbody>\n",
       "</table>\n",
       "</div>"
      ],
      "text/plain": [
       "  sentiment                                            content\n",
       "0   sadness        im feeling rather rotten im ambitious right\n",
       "1   sadness                       im updating blog feel shitty\n",
       "2   sadness    never make separate ever want feel like ashamed\n",
       "3       joy  left bouquet red yellow tulip arm feeling slig...\n",
       "4   sadness                            feeling little vain one"
      ]
     },
     "execution_count": 21,
     "metadata": {},
     "output_type": "execute_result"
    }
   ],
   "source": [
    "#Read data\n",
    "file_path = \"../../dataset/train_val_test_preprocessed.csv\"\n",
    "data = pd.read_csv(file_path)\n",
    "data.head()"
   ]
  },
  {
   "cell_type": "code",
   "execution_count": 22,
   "id": "70512a48",
   "metadata": {},
   "outputs": [],
   "source": [
    "data = data.dropna(subset=['content'])\n",
    "X = data['content'].astype(str)\n",
    "y = data['sentiment']\n",
    "\n",
    "# Label encode the target variable\n",
    "le = LabelEncoder()\n",
    "y = le.fit_transform(y)\n",
    "\n",
    "# Split the data into training and testing sets\n",
    "X_train, X_test, y_train, y_test = train_test_split(X, y, test_size=0.1, random_state=42)\n",
    "\n",
    "# TF-IDF vectorization\n",
    "vec = TfidfVectorizer()\n",
    "X_train_tfidf = vec.fit_transform(X_train)\n",
    "X_test_tfidf = vec.transform(X_test)\n"
   ]
  },
  {
   "cell_type": "code",
   "execution_count": 23,
   "id": "f2e68245",
   "metadata": {},
   "outputs": [],
   "source": [
    "# Initialize and train an SVM classifier\n",
    "svm = SVC(random_state=42)\n",
    "svm.fit(X_train_tfidf, y_train)\n",
    "\n",
    "# Make predictions on the test set\n",
    "svm_pred = svm.predict(X_test_tfidf)"
   ]
  },
  {
   "cell_type": "code",
   "execution_count": 24,
   "id": "0c4596a5",
   "metadata": {},
   "outputs": [
    {
     "name": "stdout",
     "output_type": "stream",
     "text": [
      "              precision    recall  f1-score   support\n",
      "\n",
      "           0       0.89      0.82      0.85       266\n",
      "           1       0.88      0.82      0.85       254\n",
      "           2       0.85      0.96      0.90       683\n",
      "           3       0.92      0.67      0.77       156\n",
      "           4       0.90      0.92      0.91       572\n",
      "           5       0.93      0.58      0.71        64\n",
      "\n",
      "    accuracy                           0.88      1995\n",
      "   macro avg       0.89      0.79      0.83      1995\n",
      "weighted avg       0.88      0.88      0.87      1995\n",
      "\n"
     ]
    },
    {
     "data": {
      "image/png": "[encoded data removed]",
      "text/plain": [
       "<Figure size 800x600 with 1 Axes>"
      ]
     },
     "metadata": {},
     "output_type": "display_data"
    }
   ],
   "source": [
    "# Print classification report\n",
    "print(classification_report(y_test, svm_pred, zero_division='warn'))\n",
    "\n",
    "# Generate and display confusion matrix\n",
    "confusion_m = confusion_matrix(y_test, svm_pred)\n",
    "plt.figure(figsize=(8, 6))\n",
    "sns.heatmap(confusion_m, annot=True, fmt='d', cmap='Blues', cbar=False)\n",
    "plt.xlabel('Predicted Labels')\n",
    "plt.ylabel('True Labels')\n",
    "plt.title('Confusion Matrix Support Vector Machine')\n",
    "plt.show()\n"
   ]
  },
  {
   "cell_type": "code",
   "execution_count": 25,
   "id": "30166b34",
   "metadata": {},
   "outputs": [
    {
     "name": "stdout",
     "output_type": "stream",
     "text": [
      "\n",
      "Classification Report:\n",
      "              precision    recall  f1-score   support\n",
      "\n",
      "           0       0.89      0.82      0.85       266\n",
      "           1       0.88      0.82      0.85       254\n",
      "           2       0.85      0.96      0.90       683\n",
      "           3       0.92      0.67      0.77       156\n",
      "           4       0.90      0.92      0.91       572\n",
      "           5       0.93      0.58      0.71        64\n",
      "\n",
      "    accuracy                           0.88      1995\n",
      "   macro avg       0.89      0.79      0.83      1995\n",
      "weighted avg       0.88      0.88      0.87      1995\n",
      "\n"
     ]
    }
   ],
   "source": [
    "target_names = data.target_names if hasattr(data, 'target_names') else None\n",
    "\n",
    "# Generate and print classification report\n",
    "report = metrics.classification_report(y_test, svm_pred, target_names=target_names, zero_division='warn')\n",
    "print(\"\\nClassification Report:\")\n",
    "print(report)\n",
    "\n",
    "\n",
    "\n"
   ]
  },
  {
   "cell_type": "code",
   "execution_count": 26,
   "id": "95fd9906",
   "metadata": {},
   "outputs": [
    {
     "name": "stdout",
     "output_type": "stream",
     "text": [
      "Name: SVM\n",
      "Accuracy: z 0.8776942355889724\n",
      "Precision:  0.8806868101778665\n",
      "Recall:  0.8776942355889724\n",
      "F1:  0.8746469171434184\n"
     ]
    }
   ],
   "source": [
    "# Calculate and print performance metrics for SVM classifier\n",
    "accuracy = accuracy_score(y_test, svm_pred)\n",
    "precision = precision_score(y_test, svm_pred, average='weighted', zero_division=1)\n",
    "recall = recall_score(y_test, svm_pred, average='weighted')\n",
    "f1 = f1_score(y_test, svm_pred, average='weighted')\n",
    "\n",
    "# Display performance metrics\n",
    "print(\"Name: SVM\")\n",
    "print(\"Accuracy: z\", accuracy)\n",
    "print(\"Precision: \", precision)\n",
    "print(\"Recall: \", recall)\n",
    "print(\"F1: \", f1)"
   ]
  },
  {
   "cell_type": "code",
   "execution_count": null,
   "id": "2bc85aa8",
   "metadata": {},
   "outputs": [],
   "source": []
  },
  {
   "cell_type": "code",
   "execution_count": null,
   "id": "b5387b38",
   "metadata": {},
   "outputs": [],
   "source": []
  }
 ],
 "metadata": {
  "kernelspec": {
   "display_name": "Python 3 (ipykernel)",
   "language": "python",
   "name": "python3"
  },
  "language_info": {
   "codemirror_mode": {
    "name": "ipython",
    "version": 3
   },
   "file_extension": ".py",
   "mimetype": "text/x-python",
   "name": "python",
   "nbconvert_exporter": "python",
   "pygments_lexer": "ipython3",
   "version": "3.9.12"
  }
 },
 "nbformat": 4,
 "nbformat_minor": 5
}
